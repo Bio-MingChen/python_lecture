{
 "cells": [
  {
   "cell_type": "markdown",
   "metadata": {},
   "source": [
    "https://www.webfx.com/tools/emoji-cheat-sheet/"
   ]
  },
  {
   "cell_type": "code",
   "execution_count": 4,
   "metadata": {},
   "outputs": [
    {
     "name": "stdout",
     "output_type": "stream",
     "text": [
      "👨Hello World\n"
     ]
    }
   ],
   "source": [
    "print(\"👨Hello World\")"
   ]
  },
  {
   "cell_type": "code",
   "execution_count": 3,
   "metadata": {},
   "outputs": [
    {
     "name": "stdout",
     "output_type": "stream",
     "text": [
      "🌞Coding in Jupyter Notebook is interactive\n"
     ]
    }
   ],
   "source": [
    "print(\"🌞Coding in Jupyter Notebook is interactive\")"
   ]
  },
  {
   "cell_type": "code",
   "execution_count": 5,
   "metadata": {},
   "outputs": [
    {
     "name": "stdout",
     "output_type": "stream",
     "text": [
      "<class 'bool'>\n",
      "<class 'int'>\n",
      "True 3\n"
     ]
    }
   ],
   "source": [
    "python_is_fun = True\n",
    "print(type(python_is_fun))\n",
    "chocolate_cakes = 3\n",
    "print(type(chocolate_cakes))\n",
    "print(python_is_fun, chocolate_cakes)"
   ]
  },
  {
   "cell_type": "code",
   "execution_count": 6,
   "metadata": {},
   "outputs": [
    {
     "data": {
      "text/plain": [
       "2"
      ]
     },
     "execution_count": 6,
     "metadata": {},
     "output_type": "execute_result"
    }
   ],
   "source": [
    "True + 1"
   ]
  },
  {
   "cell_type": "code",
   "execution_count": 7,
   "metadata": {},
   "outputs": [
    {
     "data": {
      "text/plain": [
       "1"
      ]
     },
     "execution_count": 7,
     "metadata": {},
     "output_type": "execute_result"
    }
   ],
   "source": [
    "False + 1"
   ]
  },
  {
   "cell_type": "code",
   "execution_count": 8,
   "metadata": {},
   "outputs": [
    {
     "name": "stdout",
     "output_type": "stream",
     "text": [
      "<class 'int'> 10\n",
      "<class 'float'> 3.14\n",
      "<class 'complex'> (2+3j)\n",
      "<class 'bool'> True\n",
      "<class 'bool'> False\n"
     ]
    }
   ],
   "source": [
    "# 整数（int）\n",
    "a = 10\n",
    "print(type(a), a)  \n",
    "\n",
    "# 浮点数（float）\n",
    "b = 3.14\n",
    "print(type(b), b)  \n",
    "\n",
    "# 复数（complex）\n",
    "c = 2 + 3j\n",
    "print(type(c), c)\n",
    "\n",
    "# 布尔值（bool）\n",
    "d = True\n",
    "e = False\n",
    "print(type(d), d)\n",
    "print(type(e), e)"
   ]
  },
  {
   "cell_type": "code",
   "execution_count": 9,
   "metadata": {},
   "outputs": [
    {
     "name": "stdout",
     "output_type": "stream",
     "text": [
      "<class 'str'> Python 是最棒的语言！\n",
      "<class 'str'> Hello, World!\n",
      "<class 'str'> 这是一个\n",
      "多行字符串的示例\n",
      "Python🐍\n",
      "HaHaHa\n",
      "P\n",
      "！\n"
     ]
    }
   ],
   "source": [
    "# 字符串定义\n",
    "s1 = \"Python 是最棒的语言！\"\n",
    "s2 = 'Hello, World!'\n",
    "\n",
    "# 多行字符串（使用三引号）\n",
    "s3 = \"\"\"这是一个\n",
    "多行字符串的示例\"\"\"\n",
    "\n",
    "print(type(s1), s1)\n",
    "print(type(s2), s2)\n",
    "print(type(s3), s3)\n",
    "\n",
    "# 字符串拼接\n",
    "print(\"Python\" + \"🐍\")\n",
    "\n",
    "# 重复字符串\n",
    "print(\"Ha\" * 3)\n",
    "\n",
    "# 访问字符串中的某个字符\n",
    "print(s1[0])  # 获取第一个字符\n",
    "print(s1[-1]) # 获取最后一个字符\n"
   ]
  },
  {
   "cell_type": "code",
   "execution_count": null,
   "metadata": {},
   "outputs": [
    {
     "name": "stdout",
     "output_type": "stream",
     "text": [
      "苹果\n",
      "樱桃\n",
      "['苹果', '橙子', '樱桃']\n",
      "['苹果', '橙子', '樱桃', '西瓜']\n",
      "['橙子', '樱桃', '西瓜']\n",
      "[20, 30]\n"
     ]
    }
   ],
   "source": [
    "# 定义列表\n",
    "fruits = [\"苹果\", \"香蕉\", \"樱桃\"]\n",
    "numbers = [10, 20, 30, 40]\n",
    "mixed_list = [1, \"Python\", 3.14, True]\n",
    "\n",
    "# 访问元素\n",
    "print(fruits[0])   # 获取第一个元素\n",
    "print(fruits[-1])  # 获取最后一个元素\n",
    "\n",
    "# 修改元素\n",
    "fruits[1] = \"橙子\"\n",
    "print(fruits)\n",
    "\n",
    "# 添加元素\n",
    "fruits.append(\"西瓜\")\n",
    "print(fruits)\n",
    "\n",
    "# 删除元素\n",
    "fruits.remove(\"苹果\")\n",
    "print(fruits)\n",
    "\n",
    "# 列表切片\n",
    "print(numbers[1:3])  # 获取索引 1 到 2 的元素\n"
   ]
  },
  {
   "cell_type": "code",
   "execution_count": 12,
   "metadata": {},
   "outputs": [
    {
     "name": "stdout",
     "output_type": "stream",
     "text": [
      "红色\n",
      "蓝色\n"
     ]
    },
    {
     "ename": "TypeError",
     "evalue": "'tuple' object does not support item assignment",
     "output_type": "error",
     "traceback": [
      "\u001b[31m---------------------------------------------------------------------------\u001b[39m",
      "\u001b[31mTypeError\u001b[39m                                 Traceback (most recent call last)",
      "\u001b[36mCell\u001b[39m\u001b[36m \u001b[39m\u001b[32mIn[12]\u001b[39m\u001b[32m, line 10\u001b[39m\n\u001b[32m      7\u001b[39m \u001b[38;5;28mprint\u001b[39m(colors[-\u001b[32m1\u001b[39m])\n\u001b[32m      9\u001b[39m \u001b[38;5;66;03m# 尝试修改（会报错）\u001b[39;00m\n\u001b[32m---> \u001b[39m\u001b[32m10\u001b[39m \u001b[43mcolors\u001b[49m\u001b[43m[\u001b[49m\u001b[32;43m0\u001b[39;49m\u001b[43m]\u001b[49m = \u001b[33m\"\u001b[39m\u001b[33m黄色\u001b[39m\u001b[33m\"\u001b[39m  \u001b[38;5;66;03m# TypeError: 'tuple' object does not support item assignment\u001b[39;00m\n",
      "\u001b[31mTypeError\u001b[39m: 'tuple' object does not support item assignment"
     ]
    }
   ],
   "source": [
    "# 定义元组\n",
    "colors = (\"红色\", \"绿色\", \"蓝色\")\n",
    "numbers = (1, 2, 3, 4, 5)\n",
    "\n",
    "# 访问元素\n",
    "print(colors[0])\n",
    "print(colors[-1])\n",
    "\n",
    "# 尝试修改（会报错）\n",
    "colors[0] = \"黄色\"  # TypeError: 'tuple' object does not support item assignment\n"
   ]
  },
  {
   "cell_type": "code",
   "execution_count": 13,
   "metadata": {},
   "outputs": [
    {
     "name": "stdout",
     "output_type": "stream",
     "text": [
      "小明\n",
      "20\n",
      "{'name': '小明', 'age': 21, 'major': '计算机科学'}\n",
      "{'name': '小明', 'age': 21, 'major': '计算机科学', 'GPA': 3.9}\n",
      "{'name': '小明', 'age': 21, 'GPA': 3.9}\n"
     ]
    }
   ],
   "source": [
    "# 定义字典\n",
    "student = {\n",
    "    \"name\": \"小明\",\n",
    "    \"age\": 20,\n",
    "    \"major\": \"计算机科学\"\n",
    "}\n",
    "\n",
    "# 访问元素\n",
    "print(student[\"name\"])  \n",
    "print(student.get(\"age\"))  \n",
    "\n",
    "# 修改元素\n",
    "student[\"age\"] = 21\n",
    "print(student)\n",
    "\n",
    "# 添加新键值对\n",
    "student[\"GPA\"] = 3.9\n",
    "print(student)\n",
    "\n",
    "# 删除键值对\n",
    "del student[\"major\"]\n",
    "print(student)\n"
   ]
  },
  {
   "cell_type": "code",
   "execution_count": 14,
   "metadata": {},
   "outputs": [
    {
     "name": "stdout",
     "output_type": "stream",
     "text": [
      "{1, 2, 3, 4, 5}\n",
      "{1, 2, 3, 4, 5, 6}\n",
      "{1, 2, 4, 5, 6}\n",
      "{3}\n",
      "{1, 2, 3, 4, 5}\n"
     ]
    }
   ],
   "source": [
    "# 定义集合\n",
    "numbers = {1, 2, 3, 4, 4, 5}\n",
    "print(numbers)  # 自动去重\n",
    "\n",
    "# 添加元素\n",
    "numbers.add(6)\n",
    "print(numbers)\n",
    "\n",
    "# 删除元素\n",
    "numbers.remove(3)\n",
    "print(numbers)\n",
    "\n",
    "# 集合运算（交集 & 并集）\n",
    "set1 = {1, 2, 3}\n",
    "set2 = {3, 4, 5}\n",
    "print(set1 & set2)  # 交集\n",
    "print(set1 | set2)  # 并集\n"
   ]
  },
  {
   "cell_type": "code",
   "execution_count": 13,
   "metadata": {},
   "outputs": [
    {
     "name": "stdout",
     "output_type": "stream",
     "text": [
      "太小了！\n",
      "太小了！\n",
      "太小了！\n",
      "👐 达到最大尝试次数 3！\n"
     ]
    }
   ],
   "source": [
    "number = 42\n",
    "try_time = 0\n",
    "while True:\n",
    "    try_time += 1\n",
    "    if try_time > 3:\n",
    "        print(f\"👐 达到最大尝试次数 {try_time - 1}！\")\n",
    "        break\n",
    "\n",
    "    guess = int(input(\"猜一个数字: \"))\n",
    "\n",
    "    if guess == number:\n",
    "        print(\"🎉 恭喜你猜对了！\")\n",
    "        break\n",
    "    elif guess > number:\n",
    "        print(\"太大了！\")\n",
    "    else:\n",
    "        print(\"太小了！\")\n"
   ]
  },
  {
   "cell_type": "code",
   "execution_count": 1,
   "metadata": {},
   "outputs": [
    {
     "name": "stdout",
     "output_type": "stream",
     "text": [
      "5\n",
      "4\n",
      "3\n",
      "2\n",
      "1\n",
      "🎉 倒计时结束！\n"
     ]
    }
   ],
   "source": [
    "import time\n",
    "\n",
    "for i in range(5, 0, -1):\n",
    "    print(i)\n",
    "    time.sleep(1)\n",
    "print(\"🎉 倒计时结束！\")\n"
   ]
  },
  {
   "cell_type": "code",
   "execution_count": 2,
   "metadata": {},
   "outputs": [
    {
     "name": "stdout",
     "output_type": "stream",
     "text": [
      "8\n"
     ]
    }
   ],
   "source": [
    "def add(a, b):\n",
    "    return a + b\n",
    "\n",
    "print(add(3, 5))  # 输出 8\n"
   ]
  },
  {
   "cell_type": "code",
   "execution_count": 3,
   "metadata": {},
   "outputs": [
    {
     "name": "stdout",
     "output_type": "stream",
     "text": [
      "1024\n"
     ]
    }
   ],
   "source": [
    "print(2 ** 10)  # 计算 2 的 10 次方"
   ]
  },
  {
   "cell_type": "code",
   "execution_count": null,
   "metadata": {},
   "outputs": [],
   "source": [
    "import math_tools\n",
    "\n",
    "print(math_tools.add(10, 5))\n",
    "print(math_tools.subtract(10, 5))\n",
    "\n",
    "from math_tools import add\n",
    "\n",
    "print(add(10, 20))  # 只导入 add，不导入 subtract"
   ]
  },
  {
   "cell_type": "code",
   "execution_count": null,
   "metadata": {},
   "outputs": [],
   "source": [
    "# 创建一个神秘的符号文件\n",
    "with open(\"mystery.txt\", \"w\", encoding=\"utf-8\") as f:\n",
    "    f.write(\"⚡ Python is powerful! 🚀\\n\")\n",
    "    f.write(\"💡 Keep Learning, Keep Growing! 📚\\n\")\n",
    "\n",
    "# 读取文件内容\n",
    "with open(\"mystery.txt\", \"r\", encoding=\"utf-8\") as f:\n",
    "    content = f.read()\n",
    "\n",
    "print(\"🔍 文件内容如下：\")\n",
    "print(content)\n"
   ]
  },
  {
   "cell_type": "code",
   "execution_count": 4,
   "metadata": {},
   "outputs": [
    {
     "name": "stdout",
     "output_type": "stream",
     "text": [
      "📊 ['名字', '年龄', 'Emoji']\n",
      "📊 ['Alice', '25', '😊']\n",
      "📊 ['Bob', '30', '🚀']\n",
      "📊 ['Charlie', '22', '🐍']\n"
     ]
    }
   ],
   "source": [
    "import csv\n",
    "\n",
    "# 创建 CSV 文件\n",
    "with open(\"data.csv\", \"w\", newline=\"\", encoding=\"utf-8\") as f:\n",
    "    writer = csv.writer(f)\n",
    "    writer.writerow([\"名字\", \"年龄\", \"Emoji\"])\n",
    "    writer.writerow([\"Alice\", 25, \"😊\"])\n",
    "    writer.writerow([\"Bob\", 30, \"🚀\"])\n",
    "    writer.writerow([\"Charlie\", 22, \"🐍\"])\n",
    "\n",
    "# 读取 CSV 文件\n",
    "with open(\"data.csv\", \"r\", encoding=\"utf-8\") as f:\n",
    "    reader = csv.reader(f)\n",
    "    for row in reader:\n",
    "        print(\"📊\", row)\n",
    "\n"
   ]
  },
  {
   "cell_type": "code",
   "execution_count": 6,
   "metadata": {},
   "outputs": [
    {
     "name": "stdout",
     "output_type": "stream",
     "text": [
      "❌ 不能除以 0！\n"
     ]
    }
   ],
   "source": [
    "try:\n",
    "    # 可能出错的代码\n",
    "    print(1 / 0)\n",
    "except ZeroDivisionError:\n",
    "    print(\"❌ 不能除以 0！\")\n"
   ]
  },
  {
   "cell_type": "code",
   "execution_count": null,
   "metadata": {},
   "outputs": [],
   "source": [
    "def check_age(age):\n",
    "    if age < 0:\n",
    "        raise ValueError(\"年龄不能是负数！\")\n",
    "    print(f\"你的年龄是: {age}\")\n",
    "\n",
    "try:\n",
    "    check_age(-5)\n",
    "except ValueError as e:\n",
    "    print(f\"❌ 发生错误: {e}\")\n"
   ]
  },
  {
   "cell_type": "code",
   "execution_count": 12,
   "metadata": {},
   "outputs": [
    {
     "name": "stdout",
     "output_type": "stream",
     "text": [
      "❌ 发生错误: 💢 数字超出范围！\n"
     ]
    }
   ],
   "source": [
    "import random\n",
    "\n",
    "try:\n",
    "    num = int(input(\"🎲 请输入你的幸运数字（1-10）：\"))\n",
    "    \n",
    "    if num not in range(1, 11):\n",
    "        raise ValueError(\"💢 数字超出范围！\")\n",
    "    \n",
    "    lucky = random.randint(1, 10)\n",
    "    if num == lucky:\n",
    "        print(\"🎉 恭喜你，命中幸运数字！\")\n",
    "    else:\n",
    "        print(f\"😢 很遗憾，幸运数字是 {lucky}，再试试吧！\")\n",
    "    \n",
    "except ValueError as e:\n",
    "    print(f\"❌ 发生错误: {e}\")\n"
   ]
  },
  {
   "cell_type": "code",
   "execution_count": 15,
   "metadata": {},
   "outputs": [
    {
     "name": "stdout",
     "output_type": "stream",
     "text": [
      "❌ 请输入有效的数字！\n",
      "📌 计算器运行结束。\n"
     ]
    }
   ],
   "source": [
    "def smart_divide():\n",
    "    try:\n",
    "        num1 = float(input(\"🔢 请输入第一个数: \"))\n",
    "        num2 = float(input(\"🔢 请输入第二个数: \"))\n",
    "        \n",
    "        if num2 == 0:\n",
    "            raise ZeroDivisionError(\"💥 不能除以 0！\")\n",
    "        \n",
    "        result = num1 / num2\n",
    "        print(f\"✅ 计算结果: {result:.2f}\")\n",
    "    \n",
    "    except ValueError:\n",
    "        print(\"❌ 请输入有效的数字！\")\n",
    "    except ZeroDivisionError as e:\n",
    "        print(f\"❌ 发生错误: {e}\")\n",
    "    finally:\n",
    "        print(\"📌 计算器运行结束。\")\n",
    "\n",
    "# 运行智能计算器\n",
    "smart_divide()\n"
   ]
  },
  {
   "cell_type": "code",
   "execution_count": 17,
   "metadata": {},
   "outputs": [
    {
     "name": "stdout",
     "output_type": "stream",
     "text": [
      "🧬 原始 DNA: ATGCGTAAGC\n",
      "🟢 GC 含量: 50.00%\n",
      "🟠 转录为 RNA: AUGCGUAAGC\n",
      "🔄 反向互补序列: GCTTACGCAT\n"
     ]
    }
   ],
   "source": [
    "class DNASequence:\n",
    "    \"\"\"表示 DNA 序列的类\"\"\"\n",
    "    def __init__(self, sequence):\n",
    "        self.sequence = sequence.upper()  # 统一转为大写\n",
    "\n",
    "    def gc_content(self):\n",
    "        \"\"\"计算 GC 含量\"\"\"\n",
    "        gc_count = self.sequence.count(\"G\") + self.sequence.count(\"C\")\n",
    "        return gc_count / len(self.sequence) * 100\n",
    "\n",
    "    def transcribe(self):\n",
    "        \"\"\"转录为 RNA（T -> U）\"\"\"\n",
    "        return self.sequence.replace(\"T\", \"U\")\n",
    "\n",
    "    def reverse_complement(self):\n",
    "        \"\"\"获取 DNA 反向互补序列\"\"\"\n",
    "        complement = {\"A\": \"T\", \"T\": \"A\", \"C\": \"G\", \"G\": \"C\"}\n",
    "        return \"\".join(complement[base] for base in reversed(self.sequence))\n",
    "\n",
    "# 创建 DNA 对象并调用方法\n",
    "seq = DNASequence(\"ATGCGTAAGC\")\n",
    "print(f\"🧬 原始 DNA: {seq.sequence}\")\n",
    "print(f\"🟢 GC 含量: {seq.gc_content():.2f}%\")\n",
    "print(f\"🟠 转录为 RNA: {seq.transcribe()}\")\n",
    "print(f\"🔄 反向互补序列: {seq.reverse_complement()}\")\n"
   ]
  },
  {
   "cell_type": "code",
   "execution_count": 16,
   "metadata": {},
   "outputs": [
    {
     "name": "stdout",
     "output_type": "stream",
     "text": [
      "🦸‍♂️ 勇士 攻击 哥布林，造成 10 点伤害！\n",
      "👹 哥布林 反击 勇士，造成 8 点伤害！\n",
      "⚔️ 战斗后 哥布林 生命值: 40，勇士 生命值: 92\n"
     ]
    }
   ],
   "source": [
    "class Character:\n",
    "    \"\"\"游戏角色基类\"\"\"\n",
    "    def __init__(self, name, health):\n",
    "        self.name = name\n",
    "        self.health = health\n",
    "\n",
    "    def attack(self, target):\n",
    "        pass  # 由子类实现\n",
    "\n",
    "class Hero(Character):\n",
    "    \"\"\"英雄类\"\"\"\n",
    "    def attack(self, target):\n",
    "        damage = 10\n",
    "        target.health -= damage\n",
    "        print(f\"🦸‍♂️ {self.name} 攻击 {target.name}，造成 {damage} 点伤害！\")\n",
    "\n",
    "class Monster(Character):\n",
    "    \"\"\"怪物类\"\"\"\n",
    "    def attack(self, target):\n",
    "        damage = 8\n",
    "        target.health -= damage\n",
    "        print(f\"👹 {self.name} 反击 {target.name}，造成 {damage} 点伤害！\")\n",
    "\n",
    "# 生成对象\n",
    "hero = Hero(\"勇士\", 100)\n",
    "monster = Monster(\"哥布林\", 50)\n",
    "\n",
    "# 进行战斗\n",
    "hero.attack(monster)\n",
    "monster.attack(hero)\n",
    "print(f\"⚔️ 战斗后 {monster.name} 生命值: {monster.health}，{hero.name} 生命值: {hero.health}\")\n"
   ]
  },
  {
   "cell_type": "code",
   "execution_count": 18,
   "metadata": {},
   "outputs": [
    {
     "name": "stdout",
     "output_type": "stream",
     "text": [
      "📊 归一化基因表达：\n",
      "GeneA: 0.0910\n",
      "GeneB: 0.2578\n",
      "GeneC: 0.0425\n",
      "GeneD: 0.5914\n",
      "GeneE: 0.0174\n"
     ]
    }
   ],
   "source": [
    "from functools import reduce\n",
    "\n",
    "# 模拟基因表达数据（基因ID -> 原始 reads 计数）\n",
    "gene_expression = {\n",
    "    \"GeneA\": 1200,\n",
    "    \"GeneB\": 3400,\n",
    "    \"GeneC\": 560,\n",
    "    \"GeneD\": 7800,\n",
    "    \"GeneE\": 230\n",
    "}\n",
    "\n",
    "# 计算总 reads 作为标准化基准\n",
    "total_reads = reduce(lambda a, b: a + b, gene_expression.values())\n",
    "\n",
    "# 归一化表达值（单位化到 1）\n",
    "normalized_expression = {gene: count / total_reads for gene, count in gene_expression.items()}\n",
    "\n",
    "print(\"📊 归一化基因表达：\")\n",
    "for gene, norm_value in normalized_expression.items():\n",
    "    print(f\"{gene}: {norm_value:.4f}\")\n"
   ]
  },
  {
   "cell_type": "code",
   "execution_count": null,
   "metadata": {},
   "outputs": [
    {
     "name": "stdout",
     "output_type": "stream",
     "text": [
      "[1, 4, 9, 16, 25]\n"
     ]
    }
   ],
   "source": [
    "squares = [x**2 for x in range(1, 6)]\n",
    "print(squares)  # 👉 [1, 4, 9, 16, 25]\n"
   ]
  },
  {
   "cell_type": "code",
   "execution_count": 3,
   "metadata": {},
   "outputs": [
    {
     "name": "stdout",
     "output_type": "stream",
     "text": [
      "[1, 4, 9, 16, 25]\n"
     ]
    }
   ],
   "source": [
    "squares = []\n",
    "for x in range(1,6):\n",
    "    squares.append(x**2)\n",
    "print(squares)"
   ]
  },
  {
   "cell_type": "code",
   "execution_count": null,
   "metadata": {},
   "outputs": [],
   "source": [
    "import os\n",
    "\n",
    "path = \"/Users/alice/Documents/report.txt\"\n",
    "\n",
    "# 获取目录名和文件名\n",
    "dirname = os.path.dirname(path)  # 👉 '/Users/alice/Documents'\n",
    "filename = os.path.basename(path)  # 👉 'report.txt'\n",
    "\n",
    "# 获取扩展名\n",
    "ext = os.path.splitext(path)[1]  # 👉 '.txt'\n",
    "\n",
    "# 连接路径\n",
    "new_path = os.path.join(dirname, \"new_file.txt\")  # 👉 '/Users/alice/Documents/new_file.txt'\n"
   ]
  },
  {
   "cell_type": "code",
   "execution_count": null,
   "metadata": {},
   "outputs": [],
   "source": [
    "from pathlib import Path\n",
    "\n",
    "path = Path(\"/Users/alice/Documents/report.txt\")\n",
    "\n",
    "# 获取目录名和文件名\n",
    "dirname = path.parent  # 👉 PosixPath('/Users/alice/Documents')\n",
    "filename = path.name  # 👉 'report.txt'\n",
    "\n",
    "# 获取扩展名\n",
    "ext = path.suffix  # 👉 '.txt'\n",
    "\n",
    "# 连接路径\n",
    "new_path = path.parent / \"new_file.txt\"  # 👉 PosixPath('/Users/alice/Documents/new_file.txt')\n"
   ]
  },
  {
   "cell_type": "code",
   "execution_count": 1,
   "metadata": {},
   "outputs": [
    {
     "name": "stdout",
     "output_type": "stream",
     "text": [
      "A    10\n",
      "B    20\n",
      "C    30\n",
      "dtype: int64\n"
     ]
    }
   ],
   "source": [
    "import pandas as pd\n",
    "s = pd.Series([10, 20, 30], index=[\"A\", \"B\", \"C\"])\n",
    "print(s)\n"
   ]
  },
  {
   "cell_type": "code",
   "execution_count": 2,
   "metadata": {},
   "outputs": [
    {
     "name": "stdout",
     "output_type": "stream",
     "text": [
      "    Name  Age\n",
      "0  Alice   25\n",
      "1    Bob   30\n"
     ]
    }
   ],
   "source": [
    "data = {\"Name\": [\"Alice\", \"Bob\"], \"Age\": [25, 30]}\n",
    "df = pd.DataFrame(data)\n",
    "print(df)\n"
   ]
  },
  {
   "cell_type": "code",
   "execution_count": 4,
   "metadata": {},
   "outputs": [
    {
     "data": {
      "image/png": "[encoded data removed]",
      "text/plain": [
       "<Figure size 640x480 with 1 Axes>"
      ]
     },
     "metadata": {},
     "output_type": "display_data"
    }
   ],
   "source": [
    "import matplotlib.pyplot as plt\n",
    "\n",
    "plt.rcParams['font.sans-serif'] = ['SimHei']  # 设置中文字体（黑体）\n",
    "plt.rcParams['axes.unicode_minus'] = False  # 解决负号（-）显示问题\n",
    "\n",
    "x = [1, 2, 3, 4, 5]\n",
    "y = [10, 15, 7, 12, 9]\n",
    "\n",
    "plt.plot(x, y, marker=\"o\", linestyle=\"-\", color=\"b\", label=\"数据趋势\")\n",
    "plt.xlabel(\"X 轴标签\")\n",
    "plt.ylabel(\"Y 轴标签\")\n",
    "plt.title(\"Matplotlib 折线图示例\")\n",
    "plt.legend()\n",
    "plt.show()\n"
   ]
  },
  {
   "cell_type": "code",
   "execution_count": 5,
   "metadata": {},
   "outputs": [
    {
     "name": "stdout",
     "output_type": "stream",
     "text": [
      "[1 2 3 4 5]\n",
      "15.3 ms ± 51.8 µs per loop (mean ± std. dev. of 7 runs, 100 loops each)\n",
      "119 µs ± 801 ns per loop (mean ± std. dev. of 7 runs, 10,000 loops each)\n"
     ]
    }
   ],
   "source": [
    "import numpy as np\n",
    "\n",
    "arr = np.array([1, 2, 3, 4, 5])  # 创建 1D 数组\n",
    "print(arr)  \n",
    "# 输出: [1 2 3 4 5]\n",
    "\n",
    "lst = list(range(1000000))\n",
    "arr = np.array(lst)\n",
    "\n",
    "%timeit sum(lst)  # 普通列表求和\n",
    "%timeit np.sum(arr)  # NumPy 数组求和\n"
   ]
  }
 ],
 "metadata": {
  "kernelspec": {
   "display_name": "Python 3",
   "language": "python",
   "name": "python3"
  },
  "language_info": {
   "codemirror_mode": {
    "name": "ipython",
    "version": 3
   },
   "file_extension": ".py",
   "mimetype": "text/x-python",
   "name": "python",
   "nbconvert_exporter": "python",
   "pygments_lexer": "ipython3",
   "version": "3.12.3"
  }
 },
 "nbformat": 4,
 "nbformat_minor": 2
}
